{
 "cells": [
  {
   "cell_type": "markdown",
   "id": "f8a8cf45",
   "metadata": {
    "papermill": {
     "duration": 0.00615,
     "end_time": "2024-05-04T02:32:11.158843",
     "exception": false,
     "start_time": "2024-05-04T02:32:11.152693",
     "status": "completed"
    },
    "tags": []
   },
   "source": [
    "**This notebook is an exercise in the [Intro to Programming](https://www.kaggle.com/learn/intro-to-programming) course.  You can reference the tutorial at [this link](https://www.kaggle.com/alexisbcook/functions).**\n",
    "\n",
    "---\n"
   ]
  },
  {
   "cell_type": "markdown",
   "id": "d3321917",
   "metadata": {
    "papermill": {
     "duration": 0.005324,
     "end_time": "2024-05-04T02:32:11.169945",
     "exception": false,
     "start_time": "2024-05-04T02:32:11.164621",
     "status": "completed"
    },
    "tags": []
   },
   "source": [
    "In the tutorial, you learned about functions. In this exercise, you'll write some of your own!\n",
    "\n",
    "# Set up the notebook\n",
    "\n",
    "Run the next code cell without changes to set up the notebook."
   ]
  },
  {
   "cell_type": "code",
   "execution_count": 1,
   "id": "0146905d",
   "metadata": {
    "execution": {
     "iopub.execute_input": "2024-05-04T02:32:11.183888Z",
     "iopub.status.busy": "2024-05-04T02:32:11.182834Z",
     "iopub.status.idle": "2024-05-04T02:32:12.231599Z",
     "shell.execute_reply": "2024-05-04T02:32:12.230650Z"
    },
    "papermill": {
     "duration": 1.058204,
     "end_time": "2024-05-04T02:32:12.233924",
     "exception": false,
     "start_time": "2024-05-04T02:32:11.175720",
     "status": "completed"
    },
    "tags": []
   },
   "outputs": [
    {
     "name": "stdout",
     "output_type": "stream",
     "text": [
      "Setup complete.\n"
     ]
    }
   ],
   "source": [
    "# Set up the exercise\n",
    "import math\n",
    "from learntools.core import binder\n",
    "binder.bind(globals())\n",
    "from learntools.intro_to_programming.ex2 import *\n",
    "print('Setup complete.')"
   ]
  },
  {
   "cell_type": "markdown",
   "id": "1fff1697",
   "metadata": {
    "papermill": {
     "duration": 0.005586,
     "end_time": "2024-05-04T02:32:12.245312",
     "exception": false,
     "start_time": "2024-05-04T02:32:12.239726",
     "status": "completed"
    },
    "tags": []
   },
   "source": [
    "# Question 1\n",
    "\n",
    "In the [House Prices - Advanced Regression Techniques competition](https://www.kaggle.com/c/house-prices-advanced-regression-techniques/overview), you need to use information like the number of bedrooms and bathrooms to predict the price of a house.  Inspired by this competition, you'll write your own function to do this.\n",
    "\n",
    "In the next code cell, create a function `get_expected_cost()` that has two arguments:\n",
    "- `beds` - number of bedrooms \n",
    "- `baths` - number of bathrooms\n",
    "\n",
    "It should return the expected cost of a house with that number of bedrooms and bathrooms.  Assume that:\n",
    "- the expected cost for a house with 0 bedrooms and 0 bathrooms is `80000`.  \n",
    "- each bedroom adds `30000` to the expected cost\n",
    "- each bathroom adds `10000` to the expected cost.\n",
    "\n",
    "For instance, \n",
    "- a house with 1 bedroom and 1 bathroom has an expected cost of `120000`, and \n",
    "- a house with 2 bedrooms and 1 bathroom has an expected cost of `150000`."
   ]
  },
  {
   "cell_type": "code",
   "execution_count": 2,
   "id": "f1a7be63",
   "metadata": {
    "execution": {
     "iopub.execute_input": "2024-05-04T02:32:12.258936Z",
     "iopub.status.busy": "2024-05-04T02:32:12.257958Z",
     "iopub.status.idle": "2024-05-04T02:32:12.268674Z",
     "shell.execute_reply": "2024-05-04T02:32:12.267466Z"
    },
    "papermill": {
     "duration": 0.019908,
     "end_time": "2024-05-04T02:32:12.270877",
     "exception": false,
     "start_time": "2024-05-04T02:32:12.250969",
     "status": "completed"
    },
    "tags": []
   },
   "outputs": [
    {
     "data": {
      "application/javascript": [
       "parent.postMessage({\"jupyterEvent\": \"custom.exercise_interaction\", \"data\": {\"outcomeType\": 1, \"valueTowardsCompletion\": 0.2, \"interactionType\": 1, \"questionType\": 2, \"questionId\": \"1_GetExpectedCost\", \"learnToolsVersion\": \"0.3.4\", \"failureMessage\": \"\", \"exceptionClass\": \"\", \"trace\": \"\"}}, \"*\")"
      ],
      "text/plain": [
       "<IPython.core.display.Javascript object>"
      ]
     },
     "metadata": {},
     "output_type": "display_data"
    },
    {
     "data": {
      "text/markdown": [
       "<span style=\"color:#33cc33\">Correct</span>"
      ],
      "text/plain": [
       "Correct"
      ]
     },
     "metadata": {},
     "output_type": "display_data"
    }
   ],
   "source": [
    "# TODO: Complete the function\n",
    "def get_expected_cost(beds, baths):\n",
    "    value = 80000 + 30000 * beds + 10000 * baths\n",
    "    return value\n",
    "\n",
    "# Check your answer \n",
    "q1.check()"
   ]
  },
  {
   "cell_type": "code",
   "execution_count": 3,
   "id": "f8978806",
   "metadata": {
    "execution": {
     "iopub.execute_input": "2024-05-04T02:32:12.285525Z",
     "iopub.status.busy": "2024-05-04T02:32:12.284952Z",
     "iopub.status.idle": "2024-05-04T02:32:12.298323Z",
     "shell.execute_reply": "2024-05-04T02:32:12.297127Z"
    },
    "papermill": {
     "duration": 0.023211,
     "end_time": "2024-05-04T02:32:12.300560",
     "exception": false,
     "start_time": "2024-05-04T02:32:12.277349",
     "status": "completed"
    },
    "tags": []
   },
   "outputs": [
    {
     "data": {
      "application/javascript": [
       "parent.postMessage({\"jupyterEvent\": \"custom.exercise_interaction\", \"data\": {\"interactionType\": 2, \"questionType\": 2, \"questionId\": \"1_GetExpectedCost\", \"learnToolsVersion\": \"0.3.4\", \"valueTowardsCompletion\": 0.0, \"failureMessage\": \"\", \"exceptionClass\": \"\", \"trace\": \"\", \"outcomeType\": 4}}, \"*\")"
      ],
      "text/plain": [
       "<IPython.core.display.Javascript object>"
      ]
     },
     "metadata": {},
     "output_type": "display_data"
    },
    {
     "data": {
      "text/markdown": [
       "<span style=\"color:#3366cc\">Hint:</span> The value should be the base cost (`80000`), plus the total cost of the bedrooms (`30000 * beds`), plus the total cost of the bathrooms (`10000 * baths`)."
      ],
      "text/plain": [
       "Hint: The value should be the base cost (`80000`), plus the total cost of the bedrooms (`30000 * beds`), plus the total cost of the bathrooms (`10000 * baths`)."
      ]
     },
     "metadata": {},
     "output_type": "display_data"
    },
    {
     "data": {
      "application/javascript": [
       "parent.postMessage({\"jupyterEvent\": \"custom.exercise_interaction\", \"data\": {\"interactionType\": 3, \"questionType\": 2, \"questionId\": \"1_GetExpectedCost\", \"learnToolsVersion\": \"0.3.4\", \"valueTowardsCompletion\": 0.0, \"failureMessage\": \"\", \"exceptionClass\": \"\", \"trace\": \"\", \"outcomeType\": 4}}, \"*\")"
      ],
      "text/plain": [
       "<IPython.core.display.Javascript object>"
      ]
     },
     "metadata": {},
     "output_type": "display_data"
    },
    {
     "data": {
      "text/markdown": [
       "<span style=\"color:#33cc99\">Solution:</span> \n",
       "```python\n",
       "\n",
       "def get_expected_cost(beds, baths):\n",
       "    value = 80000 + 30000 * beds + 10000 * baths\n",
       "    return value\n",
       "\n",
       "```"
      ],
      "text/plain": [
       "Solution: \n",
       "```python\n",
       "\n",
       "def get_expected_cost(beds, baths):\n",
       "    value = 80000 + 30000 * beds + 10000 * baths\n",
       "    return value\n",
       "\n",
       "```"
      ]
     },
     "metadata": {},
     "output_type": "display_data"
    }
   ],
   "source": [
    "# Uncomment to see a hint\n",
    "q1.hint()\n",
    "\n",
    "# Uncomment to view the solution\n",
    "q1.solution()"
   ]
  },
  {
   "cell_type": "markdown",
   "id": "9868ac60",
   "metadata": {
    "papermill": {
     "duration": 0.006348,
     "end_time": "2024-05-04T02:32:12.313294",
     "exception": false,
     "start_time": "2024-05-04T02:32:12.306946",
     "status": "completed"
    },
    "tags": []
   },
   "source": [
    "# Question 2\n",
    "\n",
    "You are thinking about buying a home and want to get an idea of how much you will spend, based on the number of bedrooms and bathrooms.  You are trying to decide between four different options:\n",
    "- Option 1: house with two bedrooms and three bathrooms\n",
    "- Option 2: house with three bedrooms and two bathrooms\n",
    "- Option 3: house with three bedrooms and three bathrooms\n",
    "- Option 4: house with three bedrooms and four bathrooms\n",
    "\n",
    "Use the `get_expected_cost()` function you defined in question 1 to set `option_1`, `option_2`, `option_3`, and `option_4` to the expected cost of each option."
   ]
  },
  {
   "cell_type": "code",
   "execution_count": 4,
   "id": "f80d6d2a",
   "metadata": {
    "execution": {
     "iopub.execute_input": "2024-05-04T02:32:12.327865Z",
     "iopub.status.busy": "2024-05-04T02:32:12.327493Z",
     "iopub.status.idle": "2024-05-04T02:32:12.338183Z",
     "shell.execute_reply": "2024-05-04T02:32:12.337119Z"
    },
    "papermill": {
     "duration": 0.02122,
     "end_time": "2024-05-04T02:32:12.340965",
     "exception": false,
     "start_time": "2024-05-04T02:32:12.319745",
     "status": "completed"
    },
    "tags": []
   },
   "outputs": [
    {
     "name": "stdout",
     "output_type": "stream",
     "text": [
      "170000\n",
      "190000\n",
      "200000\n",
      "210000\n"
     ]
    },
    {
     "data": {
      "application/javascript": [
       "parent.postMessage({\"jupyterEvent\": \"custom.exercise_interaction\", \"data\": {\"outcomeType\": 1, \"valueTowardsCompletion\": 0.2, \"interactionType\": 1, \"questionType\": 1, \"questionId\": \"2_RunGetExpectedCost\", \"learnToolsVersion\": \"0.3.4\", \"failureMessage\": \"\", \"exceptionClass\": \"\", \"trace\": \"\"}}, \"*\")"
      ],
      "text/plain": [
       "<IPython.core.display.Javascript object>"
      ]
     },
     "metadata": {},
     "output_type": "display_data"
    },
    {
     "data": {
      "text/markdown": [
       "<span style=\"color:#33cc33\">Correct</span>"
      ],
      "text/plain": [
       "Correct"
      ]
     },
     "metadata": {},
     "output_type": "display_data"
    }
   ],
   "source": [
    "# TODO: Use the get_expected_cost function to fill in each value\n",
    "option_one = get_expected_cost(2,3)\n",
    "option_two = get_expected_cost(3,2)\n",
    "option_three = get_expected_cost(3,3)\n",
    "option_four = get_expected_cost(3,4)\n",
    "\n",
    "print(option_one)\n",
    "print(option_two)\n",
    "print(option_three)\n",
    "print(option_four)\n",
    "\n",
    "# Check your answer\n",
    "q2.check()"
   ]
  },
  {
   "cell_type": "code",
   "execution_count": 5,
   "id": "c8d4e804",
   "metadata": {
    "execution": {
     "iopub.execute_input": "2024-05-04T02:32:12.357088Z",
     "iopub.status.busy": "2024-05-04T02:32:12.356692Z",
     "iopub.status.idle": "2024-05-04T02:32:12.361844Z",
     "shell.execute_reply": "2024-05-04T02:32:12.360789Z"
    },
    "papermill": {
     "duration": 0.016374,
     "end_time": "2024-05-04T02:32:12.364314",
     "exception": false,
     "start_time": "2024-05-04T02:32:12.347940",
     "status": "completed"
    },
    "tags": []
   },
   "outputs": [],
   "source": [
    "# Uncomment to see a hint\n",
    "#q2.hint()\n",
    "\n",
    "# Uncomment to view the solution\n",
    "#q2.solution()"
   ]
  },
  {
   "cell_type": "markdown",
   "id": "fe1c0e76",
   "metadata": {
    "papermill": {
     "duration": 0.007256,
     "end_time": "2024-05-04T02:32:12.380139",
     "exception": false,
     "start_time": "2024-05-04T02:32:12.372883",
     "status": "completed"
    },
    "tags": []
   },
   "source": [
    "# Question 3\n",
    "\n",
    "You're a home decorator, and you'd like to use Python to streamline some of your work.  Specifically, you're creating a tool that you intend to use to calculate the cost of painting a room.\n",
    "\n",
    "As a first step, define a function `get_cost()` that takes as input:\n",
    "- `sqft_walls` = total square feet of walls to be painted\n",
    "- `sqft_ceiling` = square feet of ceiling to be painted\n",
    "- `sqft_per_gallon` = number of square feet that you can cover with one gallon of paint\n",
    "- `cost_per_gallon` = cost (in dollars) of one gallon of paint\n",
    "\n",
    "It should return the cost (in dollars) of putting one coat of paint on all walls and the ceiling.  Assume you can buy the exact amount of paint that you need, so you can buy partial gallons (e.g., if you need 7.523 gallons, you can buy that exact amount, instead of needing to buy 8 gallons and waste some paint).  Do not round your answer."
   ]
  },
  {
   "cell_type": "code",
   "execution_count": 6,
   "id": "44a12650",
   "metadata": {
    "execution": {
     "iopub.execute_input": "2024-05-04T02:32:12.396271Z",
     "iopub.status.busy": "2024-05-04T02:32:12.395851Z",
     "iopub.status.idle": "2024-05-04T02:32:12.405913Z",
     "shell.execute_reply": "2024-05-04T02:32:12.404820Z"
    },
    "papermill": {
     "duration": 0.021243,
     "end_time": "2024-05-04T02:32:12.408320",
     "exception": false,
     "start_time": "2024-05-04T02:32:12.387077",
     "status": "completed"
    },
    "tags": []
   },
   "outputs": [
    {
     "data": {
      "application/javascript": [
       "parent.postMessage({\"jupyterEvent\": \"custom.exercise_interaction\", \"data\": {\"outcomeType\": 1, \"valueTowardsCompletion\": 0.2, \"interactionType\": 1, \"questionType\": 2, \"questionId\": \"3_GetCostPaint\", \"learnToolsVersion\": \"0.3.4\", \"failureMessage\": \"\", \"exceptionClass\": \"\", \"trace\": \"\"}}, \"*\")"
      ],
      "text/plain": [
       "<IPython.core.display.Javascript object>"
      ]
     },
     "metadata": {},
     "output_type": "display_data"
    },
    {
     "data": {
      "text/markdown": [
       "<span style=\"color:#33cc33\">Correct</span>"
      ],
      "text/plain": [
       "Correct"
      ]
     },
     "metadata": {},
     "output_type": "display_data"
    }
   ],
   "source": [
    "# TODO: Finish defining the function\n",
    "def get_cost(sqft_walls, sqft_ceiling, sqft_per_gallon, cost_per_gallon):\n",
    "    total_cost = sqft_walls + sqft_ceiling\n",
    "    cost_per = total_cost/sqft_per_gallon\n",
    "    cost = cost_per_gallon * cost_per\n",
    "    return cost\n",
    "\n",
    "# Check your answer\n",
    "q3.check()"
   ]
  },
  {
   "cell_type": "code",
   "execution_count": 7,
   "id": "a094427f",
   "metadata": {
    "execution": {
     "iopub.execute_input": "2024-05-04T02:32:12.424714Z",
     "iopub.status.busy": "2024-05-04T02:32:12.424351Z",
     "iopub.status.idle": "2024-05-04T02:32:12.435494Z",
     "shell.execute_reply": "2024-05-04T02:32:12.434308Z"
    },
    "papermill": {
     "duration": 0.022128,
     "end_time": "2024-05-04T02:32:12.437894",
     "exception": false,
     "start_time": "2024-05-04T02:32:12.415766",
     "status": "completed"
    },
    "tags": []
   },
   "outputs": [
    {
     "data": {
      "application/javascript": [
       "parent.postMessage({\"jupyterEvent\": \"custom.exercise_interaction\", \"data\": {\"interactionType\": 2, \"questionType\": 2, \"questionId\": \"3_GetCostPaint\", \"learnToolsVersion\": \"0.3.4\", \"valueTowardsCompletion\": 0.0, \"failureMessage\": \"\", \"exceptionClass\": \"\", \"trace\": \"\", \"outcomeType\": 4}}, \"*\")"
      ],
      "text/plain": [
       "<IPython.core.display.Javascript object>"
      ]
     },
     "metadata": {},
     "output_type": "display_data"
    },
    {
     "data": {
      "text/markdown": [
       "<span style=\"color:#3366cc\">Hint:</span> Begin by calculating the total number of square feet that need to be painted. Then, based on that, figure out how many gallons you need.  Then, once you know how many gallons you need, you can calculate the total cost of the project."
      ],
      "text/plain": [
       "Hint: Begin by calculating the total number of square feet that need to be painted. Then, based on that, figure out how many gallons you need.  Then, once you know how many gallons you need, you can calculate the total cost of the project."
      ]
     },
     "metadata": {},
     "output_type": "display_data"
    },
    {
     "data": {
      "application/javascript": [
       "parent.postMessage({\"jupyterEvent\": \"custom.exercise_interaction\", \"data\": {\"interactionType\": 3, \"questionType\": 2, \"questionId\": \"3_GetCostPaint\", \"learnToolsVersion\": \"0.3.4\", \"valueTowardsCompletion\": 0.0, \"failureMessage\": \"\", \"exceptionClass\": \"\", \"trace\": \"\", \"outcomeType\": 4}}, \"*\")"
      ],
      "text/plain": [
       "<IPython.core.display.Javascript object>"
      ]
     },
     "metadata": {},
     "output_type": "display_data"
    },
    {
     "data": {
      "text/markdown": [
       "<span style=\"color:#33cc99\">Solution:</span> \n",
       "```python\n",
       "\n",
       "def get_cost(sqft_walls, sqft_ceiling, sqft_per_gallon, cost_per_gallon):\n",
       "    total_sqft = sqft_walls + sqft_ceiling\n",
       "    gallons_needed = total_sqft / sqft_per_gallon\n",
       "    cost = cost_per_gallon * gallons_needed\n",
       "    return cost\n",
       "\n",
       "```"
      ],
      "text/plain": [
       "Solution: \n",
       "```python\n",
       "\n",
       "def get_cost(sqft_walls, sqft_ceiling, sqft_per_gallon, cost_per_gallon):\n",
       "    total_sqft = sqft_walls + sqft_ceiling\n",
       "    gallons_needed = total_sqft / sqft_per_gallon\n",
       "    cost = cost_per_gallon * gallons_needed\n",
       "    return cost\n",
       "\n",
       "```"
      ]
     },
     "metadata": {},
     "output_type": "display_data"
    }
   ],
   "source": [
    "# Uncomment to see a hint\n",
    "q3.hint()\n",
    "\n",
    "# Uncomment to view the solution\n",
    "q3.solution()"
   ]
  },
  {
   "cell_type": "markdown",
   "id": "abbf459c",
   "metadata": {
    "papermill": {
     "duration": 0.007465,
     "end_time": "2024-05-04T02:32:12.453112",
     "exception": false,
     "start_time": "2024-05-04T02:32:12.445647",
     "status": "completed"
    },
    "tags": []
   },
   "source": [
    "# Question 4\n",
    "\n",
    "Use the `get_cost()` function you defined in Question 3 to calculate the cost of applying one coat of paint to a room with:\n",
    "- 432 square feet of walls, and\n",
    "- 144 square feet of ceiling.\n",
    "\n",
    "Assume that one gallon of paint covers 400 square feet and costs $15.  As in Question 3, assume you can buy partial gallons of paint.  Do not round your answer."
   ]
  },
  {
   "cell_type": "code",
   "execution_count": 8,
   "id": "042afd64",
   "metadata": {
    "execution": {
     "iopub.execute_input": "2024-05-04T02:32:12.470293Z",
     "iopub.status.busy": "2024-05-04T02:32:12.469873Z",
     "iopub.status.idle": "2024-05-04T02:32:12.478831Z",
     "shell.execute_reply": "2024-05-04T02:32:12.477704Z"
    },
    "papermill": {
     "duration": 0.020407,
     "end_time": "2024-05-04T02:32:12.481089",
     "exception": false,
     "start_time": "2024-05-04T02:32:12.460682",
     "status": "completed"
    },
    "tags": []
   },
   "outputs": [
    {
     "data": {
      "application/javascript": [
       "parent.postMessage({\"jupyterEvent\": \"custom.exercise_interaction\", \"data\": {\"outcomeType\": 1, \"valueTowardsCompletion\": 0.2, \"interactionType\": 1, \"questionType\": 1, \"questionId\": \"4_GetCostPaintExample\", \"learnToolsVersion\": \"0.3.4\", \"failureMessage\": \"\", \"exceptionClass\": \"\", \"trace\": \"\"}}, \"*\")"
      ],
      "text/plain": [
       "<IPython.core.display.Javascript object>"
      ]
     },
     "metadata": {},
     "output_type": "display_data"
    },
    {
     "data": {
      "text/markdown": [
       "<span style=\"color:#33cc33\">Correct</span>"
      ],
      "text/plain": [
       "Correct"
      ]
     },
     "metadata": {},
     "output_type": "display_data"
    }
   ],
   "source": [
    "# TODO: Set the project_cost variable to the cost of the project\n",
    "project_cost = get_cost(432,144,400,15)\n",
    "\n",
    "# Check your answer\n",
    "q4.check()"
   ]
  },
  {
   "cell_type": "code",
   "execution_count": 9,
   "id": "24221862",
   "metadata": {
    "execution": {
     "iopub.execute_input": "2024-05-04T02:32:12.499384Z",
     "iopub.status.busy": "2024-05-04T02:32:12.498435Z",
     "iopub.status.idle": "2024-05-04T02:32:12.503374Z",
     "shell.execute_reply": "2024-05-04T02:32:12.502289Z"
    },
    "papermill": {
     "duration": 0.016361,
     "end_time": "2024-05-04T02:32:12.505495",
     "exception": false,
     "start_time": "2024-05-04T02:32:12.489134",
     "status": "completed"
    },
    "tags": []
   },
   "outputs": [],
   "source": [
    "# Uncomment to see a hint\n",
    "#q4.hint()\n",
    "\n",
    "# Uncomment to view the solution\n",
    "#q4.solution()"
   ]
  },
  {
   "cell_type": "markdown",
   "id": "7b8165a8",
   "metadata": {
    "papermill": {
     "duration": 0.007653,
     "end_time": "2024-05-04T02:32:12.521106",
     "exception": false,
     "start_time": "2024-05-04T02:32:12.513453",
     "status": "completed"
    },
    "tags": []
   },
   "source": [
    "# 🌶️ Question 5\n",
    "\n",
    "Now say you can no longer buy fractions of a gallon.  (For instance, if you need 4.3 gallons to do a project, then you have to buy 5 gallons of paint.)\n",
    "\n",
    "With this new scenario, you will create a new function `get_actual_cost` that uses the same inputs and calculates the cost of your project.\n",
    "\n",
    "One function that you'll need to use to do this is `math.ceil()`.  We demonstrate usage of this function in the code cell below.  It takes as a number as input and rounds the number up to the nearest integer.  \n",
    "\n",
    "Run the next code cell to test this function for yourself.  Feel free to change the value of `test_value` and make sure `math.ceil()` returns the number you expect."
   ]
  },
  {
   "cell_type": "code",
   "execution_count": 10,
   "id": "a89ac609",
   "metadata": {
    "execution": {
     "iopub.execute_input": "2024-05-04T02:32:12.538761Z",
     "iopub.status.busy": "2024-05-04T02:32:12.538066Z",
     "iopub.status.idle": "2024-05-04T02:32:12.543993Z",
     "shell.execute_reply": "2024-05-04T02:32:12.543100Z"
    },
    "papermill": {
     "duration": 0.017197,
     "end_time": "2024-05-04T02:32:12.546008",
     "exception": false,
     "start_time": "2024-05-04T02:32:12.528811",
     "status": "completed"
    },
    "tags": []
   },
   "outputs": [
    {
     "name": "stdout",
     "output_type": "stream",
     "text": [
      "3\n"
     ]
    }
   ],
   "source": [
    "\n",
    "test_value = 2.17\n",
    "\n",
    "rounded_value = math.ceil(test_value)\n",
    "print(rounded_value)"
   ]
  },
  {
   "cell_type": "markdown",
   "id": "7f4ff69d",
   "metadata": {
    "papermill": {
     "duration": 0.008025,
     "end_time": "2024-05-04T02:32:12.562235",
     "exception": false,
     "start_time": "2024-05-04T02:32:12.554210",
     "status": "completed"
    },
    "tags": []
   },
   "source": [
    "Use the next code cell to define the function `get_actual_cost()`.  You'll need to use the `math.ceil()` function to do this.\n",
    "\n",
    "When answering this question, note that it's completely valid to define a function that makes use of another function.  For instance, we can define a function `round_up_and_divide_by_three` that makes use of the `math.ceil` function:\n",
    "```\n",
    "def round_up_and_divide_by_three(num):\n",
    "    new_value = math.ceil(num)\n",
    "    final_value = new_value / 3\n",
    "    return final_value\n",
    "```"
   ]
  },
  {
   "cell_type": "code",
   "execution_count": 11,
   "id": "dc1c4959",
   "metadata": {
    "execution": {
     "iopub.execute_input": "2024-05-04T02:32:12.581325Z",
     "iopub.status.busy": "2024-05-04T02:32:12.579943Z",
     "iopub.status.idle": "2024-05-04T02:32:12.589488Z",
     "shell.execute_reply": "2024-05-04T02:32:12.588347Z"
    },
    "papermill": {
     "duration": 0.021436,
     "end_time": "2024-05-04T02:32:12.591736",
     "exception": false,
     "start_time": "2024-05-04T02:32:12.570300",
     "status": "completed"
    },
    "tags": []
   },
   "outputs": [
    {
     "data": {
      "application/javascript": [
       "parent.postMessage({\"jupyterEvent\": \"custom.exercise_interaction\", \"data\": {\"outcomeType\": 1, \"valueTowardsCompletion\": 0.2, \"interactionType\": 1, \"questionType\": 2, \"questionId\": \"5_NoMoreFractions\", \"learnToolsVersion\": \"0.3.4\", \"failureMessage\": \"\", \"exceptionClass\": \"\", \"trace\": \"\"}}, \"*\")"
      ],
      "text/plain": [
       "<IPython.core.display.Javascript object>"
      ]
     },
     "metadata": {},
     "output_type": "display_data"
    },
    {
     "data": {
      "text/markdown": [
       "<span style=\"color:#33cc33\">Correct</span>"
      ],
      "text/plain": [
       "Correct"
      ]
     },
     "metadata": {},
     "output_type": "display_data"
    }
   ],
   "source": [
    "def get_actual_cost(sqft_walls, sqft_ceiling, sqft_per_gallon, cost_per_gallon):\n",
    "    total_cost = sqft_walls + sqft_ceiling\n",
    "    cost_per = total_cost / sqft_per_gallon\n",
    "    new_cost_per = math.ceil(cost_per)\n",
    "    cost = cost_per_gallon * new_cost_per\n",
    "    return cost\n",
    "\n",
    "# Check your answer\n",
    "q5.check()"
   ]
  },
  {
   "cell_type": "code",
   "execution_count": 12,
   "id": "12a47a38",
   "metadata": {
    "execution": {
     "iopub.execute_input": "2024-05-04T02:32:12.610655Z",
     "iopub.status.busy": "2024-05-04T02:32:12.609993Z",
     "iopub.status.idle": "2024-05-04T02:32:12.613715Z",
     "shell.execute_reply": "2024-05-04T02:32:12.612901Z"
    },
    "papermill": {
     "duration": 0.015483,
     "end_time": "2024-05-04T02:32:12.615659",
     "exception": false,
     "start_time": "2024-05-04T02:32:12.600176",
     "status": "completed"
    },
    "tags": []
   },
   "outputs": [],
   "source": [
    "# Uncomment to see a hint\n",
    "#q5.hint()\n",
    "\n",
    "# Uncomment to view the solution\n",
    "#q5.solution()"
   ]
  },
  {
   "cell_type": "markdown",
   "id": "9008da15",
   "metadata": {
    "papermill": {
     "duration": 0.007919,
     "end_time": "2024-05-04T02:32:12.631888",
     "exception": false,
     "start_time": "2024-05-04T02:32:12.623969",
     "status": "completed"
    },
    "tags": []
   },
   "source": [
    "Once your function is verified as correct, run the next code cell to calculate the updated cost of your project."
   ]
  },
  {
   "cell_type": "code",
   "execution_count": 13,
   "id": "462c87a8",
   "metadata": {
    "execution": {
     "iopub.execute_input": "2024-05-04T02:32:12.650589Z",
     "iopub.status.busy": "2024-05-04T02:32:12.650222Z",
     "iopub.status.idle": "2024-05-04T02:32:12.657378Z",
     "shell.execute_reply": "2024-05-04T02:32:12.656315Z"
    },
    "papermill": {
     "duration": 0.018968,
     "end_time": "2024-05-04T02:32:12.659644",
     "exception": false,
     "start_time": "2024-05-04T02:32:12.640676",
     "status": "completed"
    },
    "tags": []
   },
   "outputs": [
    {
     "data": {
      "text/plain": [
       "30"
      ]
     },
     "execution_count": 13,
     "metadata": {},
     "output_type": "execute_result"
    }
   ],
   "source": [
    "get_actual_cost(432, 144, 400, 15) "
   ]
  },
  {
   "cell_type": "markdown",
   "id": "17af9e04",
   "metadata": {
    "papermill": {
     "duration": 0.008115,
     "end_time": "2024-05-04T02:32:12.676141",
     "exception": false,
     "start_time": "2024-05-04T02:32:12.668026",
     "status": "completed"
    },
    "tags": []
   },
   "source": [
    "Say you're working with a slightly larger room.  Run the next code cell to calculate the cost of the project."
   ]
  },
  {
   "cell_type": "code",
   "execution_count": 14,
   "id": "40d0cb48",
   "metadata": {
    "execution": {
     "iopub.execute_input": "2024-05-04T02:32:12.694964Z",
     "iopub.status.busy": "2024-05-04T02:32:12.694550Z",
     "iopub.status.idle": "2024-05-04T02:32:12.701715Z",
     "shell.execute_reply": "2024-05-04T02:32:12.700287Z"
    },
    "papermill": {
     "duration": 0.020366,
     "end_time": "2024-05-04T02:32:12.705032",
     "exception": false,
     "start_time": "2024-05-04T02:32:12.684666",
     "status": "completed"
    },
    "tags": []
   },
   "outputs": [
    {
     "data": {
      "text/plain": [
       "45"
      ]
     },
     "execution_count": 14,
     "metadata": {},
     "output_type": "execute_result"
    }
   ],
   "source": [
    "get_actual_cost(594, 288, 400, 15) "
   ]
  },
  {
   "cell_type": "markdown",
   "id": "39ac08fe",
   "metadata": {
    "papermill": {
     "duration": 0.008422,
     "end_time": "2024-05-04T02:32:12.722586",
     "exception": false,
     "start_time": "2024-05-04T02:32:12.714164",
     "status": "completed"
    },
    "tags": []
   },
   "source": [
    "# Keep going\n",
    "\n",
    "Continue to learn about **[data types](https://www.kaggle.com/alexisbcook/data-types)**."
   ]
  },
  {
   "cell_type": "markdown",
   "id": "0204f8d9",
   "metadata": {
    "papermill": {
     "duration": 0.008236,
     "end_time": "2024-05-04T02:32:12.739408",
     "exception": false,
     "start_time": "2024-05-04T02:32:12.731172",
     "status": "completed"
    },
    "tags": []
   },
   "source": [
    "---\n",
    "\n",
    "\n",
    "\n",
    "\n",
    "*Have questions or comments? Visit the [course discussion forum](https://www.kaggle.com/learn/intro-to-programming/discussion) to chat with other learners.*"
   ]
  }
 ],
 "metadata": {
  "kaggle": {
   "accelerator": "none",
   "dataSources": [],
   "isGpuEnabled": false,
   "isInternetEnabled": false,
   "language": "python",
   "sourceType": "notebook"
  },
  "kernelspec": {
   "display_name": "Python 3",
   "language": "python",
   "name": "python3"
  },
  "language_info": {
   "codemirror_mode": {
    "name": "ipython",
    "version": 3
   },
   "file_extension": ".py",
   "mimetype": "text/x-python",
   "name": "python",
   "nbconvert_exporter": "python",
   "pygments_lexer": "ipython3",
   "version": "3.10.13"
  },
  "papermill": {
   "default_parameters": {},
   "duration": 5.477594,
   "end_time": "2024-05-04T02:32:13.268649",
   "environment_variables": {},
   "exception": null,
   "input_path": "__notebook__.ipynb",
   "output_path": "__notebook__.ipynb",
   "parameters": {},
   "start_time": "2024-05-04T02:32:07.791055",
   "version": "2.5.0"
  }
 },
 "nbformat": 4,
 "nbformat_minor": 5
}
